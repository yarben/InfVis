{
 "cells": [
  {
   "cell_type": "markdown",
   "metadata": {},
   "source": [
    "Next we want to discover what the correlation between the price of a game and the amount of players that play the game is. Furthermore we want to explore the difference between AAA-games and Indie-games. To do so we have used the following dataset: https://www.kaggle.com/datasets/faisaljanjua0555/most-played-games-of-all-time combined with another dataset: https://www.kaggle.com/datasets/nikdavis/steam-store-games. In the first dataset \"current\" indicates the amount of players a game has right now, \"24th peak\" the amount of players a game had on it's 24th peak and \"all time peak\" the highest amount of players a game has ever had. Furthermore the data is split into two categories, which are AAA-games and Indie-games. These categories are again split into three subdivisons depended on the price of a game. The length of the bar is depended on the avarage amount of players over the games in the according category."
   ]
  },
  {
   "cell_type": "code",
   "execution_count": 1,
   "metadata": {},
   "outputs": [
    {
     "ename": "NameError",
     "evalue": "name 'pd' is not defined",
     "output_type": "error",
     "traceback": [
      "\u001b[0;31m---------------------------------------------------------------------------\u001b[0m",
      "\u001b[0;31mNameError\u001b[0m                                 Traceback (most recent call last)",
      "Cell \u001b[0;32mIn[1], line 1\u001b[0m\n\u001b[0;32m----> 1\u001b[0m df1 \u001b[38;5;241m=\u001b[39m \u001b[43mpd\u001b[49m\u001b[38;5;241m.\u001b[39mread_csv(\u001b[38;5;124m'\u001b[39m\u001b[38;5;124mDATASETS/aaa_published_games.csv\u001b[39m\u001b[38;5;124m'\u001b[39m)\n\u001b[1;32m      2\u001b[0m df1 \u001b[38;5;241m=\u001b[39m df1[[\u001b[38;5;124m'\u001b[39m\u001b[38;5;124mname\u001b[39m\u001b[38;5;124m'\u001b[39m, \u001b[38;5;124m'\u001b[39m\u001b[38;5;124mprice\u001b[39m\u001b[38;5;124m'\u001b[39m]]\n\u001b[1;32m      3\u001b[0m df2 \u001b[38;5;241m=\u001b[39m pd\u001b[38;5;241m.\u001b[39mread_csv(\u001b[38;5;124m'\u001b[39m\u001b[38;5;124mDATASETS/indie_published_games.csv\u001b[39m\u001b[38;5;124m'\u001b[39m)\n",
      "\u001b[0;31mNameError\u001b[0m: name 'pd' is not defined"
     ]
    }
   ],
   "source": [
    "df1 = pd.read_csv('DATASETS/aaa_published_games.csv')\n",
    "df1 = df1[['name', 'price']]\n",
    "df2 = pd.read_csv('DATASETS/indie_published_games.csv')\n",
    "df2 = df2[['name', 'price']]\n",
    "df3 = pd.read_csv('DATASETS/player_count.csv')\n",
    "df1 = df1.merge(df3, how='inner', on='name')\n",
    "df2 = df2.merge(df3, how='inner', on='name')\n",
    "df1['Type of game']='AAA'\n",
    "df2['Type of game']='Indie'\n",
    "df = df1.merge(df2, how='outer')\n",
    "df = df.drop(columns=['Unnamed: 5'])\n",
    "\n",
    "AAA = df[df[\"Type of game\"]=='AAA']\n",
    "AAA.loc[:, 'Current'] = pd.to_numeric(AAA['Current'], errors='coerce')\n",
    "AAA.loc[:, '24th Peak'] = pd.to_numeric(AAA['24th Peak'], errors='coerce')\n",
    "AAA.loc[:, 'All_time peak'] = pd.to_numeric(AAA['All_time peak'], errors='coerce')\n",
    "AAA_price_categories = pd.qcut(AAA[\"price\"], 3, retbins=True, labels=[\"Low\", \"Medium\", \"High\"])\n",
    "AAA['price_category'] = AAA_price_categories[0]\n",
    "\n",
    "AAA_low = AAA[AAA[\"price_category\"]==\"Low\"]\n",
    "AAA_current_low = AAA_low['Current'].mean() \n",
    "AAA_24th_low = AAA_low['24th Peak'].mean()\n",
    "AAA_all_time_low = AAA_low['All_time peak'].mean()\n",
    "\n",
    "AAA_medium = AAA[AAA[\"price_category\"]==\"Medium\"]\n",
    "AAA_current_medium = AAA_medium['Current'].mean() \n",
    "AAA_24th_medium = AAA_medium['24th Peak'].mean()\n",
    "AAA_all_time_medium = AAA_medium['All_time peak'].mean()\n",
    "\n",
    "AAA_high = AAA[AAA[\"price_category\"]==\"High\"]\n",
    "AAA_current_high = AAA_high['Current'].mean() \n",
    "AAA_24th_high = AAA_high['24th Peak'].mean()\n",
    "AAA_all_time_high = AAA_high['All_time peak'].mean()\n",
    "\n",
    "Indie = df[df[\"Type of game\"]=='Indie']\n",
    "Indie.loc[:, 'Current'] = pd.to_numeric(Indie['Current'], errors='coerce')\n",
    "Indie.loc[:, '24th Peak'] = pd.to_numeric(Indie['24th Peak'], errors='coerce')\n",
    "Indie.loc[:, 'All_time peak'] = pd.to_numeric(Indie['All_time peak'], errors='coerce')\n",
    "Indie_price_categories = pd.qcut(Indie[\"price\"], 3, retbins=True, labels=[\"Low\", \"Medium\", \"High\"])\n",
    "Indie['price_category'] = Indie_price_categories[0]\n",
    "\n",
    "Indie_low = Indie[Indie[\"price_category\"]==\"Low\"]\n",
    "Indie_current_low = Indie_low['Current'].mean() \n",
    "Indie_24th_low = Indie_low['24th Peak'].mean()\n",
    "Indie_all_time_low = Indie_low['All_time peak'].mean()\n",
    "\n",
    "Indie_medium = Indie[Indie[\"price_category\"]==\"Medium\"]\n",
    "Indie_current_medium = Indie_medium['Current'].mean() \n",
    "Indie_24th_medium = Indie_medium['24th Peak'].mean()\n",
    "Indie_all_time_medium = Indie_medium['All_time peak'].mean()\n",
    "\n",
    "Indie_high = Indie[Indie[\"price_category\"]==\"High\"]\n",
    "Indie_current_high = Indie_high['Current'].mean() \n",
    "Indie_24th_high = Indie_high['24th Peak'].mean()\n",
    "Indie_all_time_high = Indie_high['All_time peak'].mean()\n",
    "\n",
    "data = [['AAA low price', AAA_current_low, AAA_24th_low, AAA_all_time_low], ['AAA medium price', AAA_current_medium, AAA_24th_medium, AAA_all_time_medium], ['AAA high price', AAA_current_high, AAA_24th_high, AAA_all_time_high], ['Indie low price', Indie_current_low, Indie_24th_low, Indie_all_time_low], ['Indie medium price', Indie_current_medium, Indie_24th_medium, Indie_all_time_medium], ['Indie high price', Indie_current_high, Indie_24th_high, Indie_all_time_high]]\n",
    "df = pd.DataFrame(data, columns=['Type of game', 'Current', '24th peak', 'All time peak'])\n",
    "\n",
    "trace =[\n",
    "    go.Bar(name='Current ', x = df['Type of game'], y = df['Current'], marker_color='rgb(102,194,165)'),\n",
    "    go.Bar(name='24th peak', x = df['Type of game'], y = df['24th peak'], marker_color='rgb(252,141,98)'),\n",
    "    go.Bar(name='All time peak', x = df['Type of game'], y = df['All time peak'], marker_color='rgb(141,160,203)'),\n",
    "]\n",
    "\n",
    "layout = go.Layout(\n",
    "    xaxis=go.layout.XAxis(\n",
    "        type='category'\n",
    "    ),\n",
    "    yaxis=go.layout.YAxis(\n",
    "    )\n",
    ")\n",
    "fig = go.Figure(data=trace, layout=layout)\n",
    "fig.update_layout(\n",
    "    title_text='Number of players, based on the type of game and price category.',\n",
    "    xaxis_title='Type of game',\n",
    "    yaxis_title='Number of players',\n",
    "    height=400\n",
    ")\n",
    "fig.show()"
   ]
  },
  {
   "cell_type": "markdown",
   "metadata": {},
   "source": [
    "You can draw some interesting conclusions based on the stacked barplot. The first thing that is remarkable is the fact that the amount of players that play AAA-games is overall a lot higher than the amount of players that play Indie games. A second interesting thing you may notice is the fact that the number of players is getting bigger when the price is getting higher, except for the AAA-games low price category. That means that people on avarage tend to play more expensive games, except when it comes to low price AAA-games. The 24th peak and current peak are also a lot higher for this category than they are for other categories. This indicates that players continue playing these games for a longer time than thay do with other games. Therefore low price AAA-games attract the most people for the longest time, which makes it the most popular type of game. "
   ]
  },
  {
   "cell_type": "code",
   "execution_count": null,
   "metadata": {},
   "outputs": [],
   "source": []
  }
 ],
 "metadata": {
  "kernelspec": {
   "display_name": "Python 3 (ipykernel)",
   "language": "python",
   "name": "python3"
  },
  "language_info": {
   "codemirror_mode": {
    "name": "ipython",
    "version": 3
   },
   "file_extension": ".py",
   "mimetype": "text/x-python",
   "name": "python",
   "nbconvert_exporter": "python",
   "pygments_lexer": "ipython3",
   "version": "3.10.14"
  }
 },
 "nbformat": 4,
 "nbformat_minor": 2
}